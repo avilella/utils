{
  "cells": [
    {
      "cell_type": "markdown",
      "metadata": {
        "id": "view-in-github",
        "colab_type": "text"
      },
      "source": [
        "<a href=\"https://colab.research.google.com/github/avilella/utils/blob/master/af/design.ipynb\" target=\"_parent\"><img src=\"https://colab.research.google.com/assets/colab-badge.svg\" alt=\"Open In Colab\"/></a>"
      ]
    },
    {
      "cell_type": "markdown",
      "metadata": {
        "id": "OA2k3sAYuiXe"
      },
      "source": [
        "#AfDesign (beta version)\n",
        "Backprop through AlphaFold for protein design.\n",
        "\n",
        "**WARNING**\n",
        "1.   This notebook is in active development and was designed for demonstration purposes only.\n",
        "2.   Using AfDesign as the only \"loss\" function for design might be a bad idea, you may find adversarial sequences (aka. sequences that trick AlphaFold)."
      ]
    },
    {
      "cell_type": "code",
      "execution_count": 1,
      "metadata": {
        "id": "-AXy0s_4cKaK"
      },
      "outputs": [],
      "source": [
        "#@title install\n",
        "%%bash\n",
        "if [ ! -d params ]; then\n",
        "  pip -q install git+https://github.com/sokrypton/af_backprop.git\n",
        "  pip -q install git+https://github.com/sokrypton/ColabDesign.git@beta\n",
        "  mkdir params\n",
        "  curl -fsSL https://storage.googleapis.com/alphafold/alphafold_params_2021-07-14.tar | tar x -C params\n",
        "fi"
      ]
    },
    {
      "cell_type": "code",
      "execution_count": 2,
      "metadata": {
        "id": "Vt7G_nbNeSQ3"
      },
      "outputs": [],
      "source": [
        "#@title import libraries\n",
        "import warnings\n",
        "warnings.simplefilter(action='ignore', category=FutureWarning)\n",
        "\n",
        "import os\n",
        "from af import mk_design_model, clear_mem\n",
        "from IPython.display import HTML\n",
        "from google.colab import files\n",
        "import numpy as np\n",
        "\n",
        "#########################\n",
        "def get_pdb(pdb_code=\"\"):\n",
        "  if pdb_code is None or pdb_code == \"\":\n",
        "    upload_dict = files.upload()\n",
        "    pdb_string = upload_dict[list(upload_dict.keys())[0]]\n",
        "    with open(\"/content/e9207a69d117f6fdece7b5bbbd2c19e9.unrelaxed_model_1.lcpb.pdb\",\"wb\") as out: out.write(pdb_string)\n",
        "    return \"tmp.pdb\"\n",
        "  else:\n",
        "    os.system(f\"wget -qnc https://files.rcsb.org/view/{pdb_code}.pdb\")\n",
        "    return f\"{pdb_code}.pdb\""
      ]
    },
    {
      "cell_type": "markdown",
      "metadata": {
        "id": "UUfKrOzT0gOS"
      },
      "source": [
        "# fixed backbone design (fixbb)\n",
        "For a given protein backbone, generate/design a new sequence that AlphaFold thinks folds into that conformation. "
      ]
    },
    {
      "cell_type": "code",
      "execution_count": null,
      "metadata": {
        "id": "qLd1DsnKzxBJ"
      },
      "outputs": [],
      "source": [
        "clear_mem()\n",
        "model = mk_design_model(protocol=\"fixbb\")\n",
        "model.prep_inputs(pdb_filename=get_pdb(\"1TEN\"), chain=\"A\")\n",
        "\n",
        "print(\"length\",  model._len)\n",
        "print(\"weights\", model.opt[\"weights\"])"
      ]
    },
    {
      "cell_type": "code",
      "source": [
        "model.restart()\n",
        "model.design_3stage()"
      ],
      "metadata": {
        "id": "u0AwskJ84NGx"
      },
      "execution_count": null,
      "outputs": []
    },
    {
      "cell_type": "code",
      "source": [
        "model.plot_traj()  "
      ],
      "metadata": {
        "id": "8FB1v7dn1LL6"
      },
      "execution_count": null,
      "outputs": []
    },
    {
      "cell_type": "code",
      "execution_count": null,
      "metadata": {
        "id": "YEApO8YzBoS0"
      },
      "outputs": [],
      "source": [
        "model.save_pdb(f\"{model.protocol}.pdb\")\n",
        "model.plot_pdb()"
      ]
    },
    {
      "cell_type": "code",
      "execution_count": null,
      "metadata": {
        "id": "cW1KQiHKJpfp"
      },
      "outputs": [],
      "source": [
        "HTML(model.animate())"
      ]
    },
    {
      "cell_type": "code",
      "source": [
        "model.get_seqs()"
      ],
      "metadata": {
        "id": "YDrChASGVUUx"
      },
      "execution_count": null,
      "outputs": []
    },
    {
      "cell_type": "markdown",
      "source": [
        "# hallucination\n",
        "For a given length, generate/hallucinate a protein sequence that AlphaFold thinks folds into a well structured protein (high plddt, low pae, many contacts)."
      ],
      "metadata": {
        "id": "qLwS2s_xcjRI"
      }
    },
    {
      "cell_type": "code",
      "execution_count": null,
      "metadata": {
        "id": "sZnYfCbfEvol"
      },
      "outputs": [],
      "source": [
        "clear_mem()\n",
        "model = mk_design_model(protocol=\"hallucination\")\n",
        "model.prep_inputs(length=100)\n",
        "\n",
        "print(\"length\",model._len)\n",
        "print(\"weights\",model.opt[\"weights\"])"
      ]
    },
    {
      "cell_type": "code",
      "source": [
        "# pre-design with gumbel initialization and softmax activation\n",
        "model.restart(seq_init=\"gumbel\")\n",
        "model.design(50, soft=True)\n",
        "\n",
        "# three stage design  \n",
        "model.restart(seq_init=model._outs[\"seq\"][\"pseudo\"], keep_history=True)\n",
        "model.design_3stage(50,50,10)"
      ],
      "metadata": {
        "id": "f76xqCkw0vj9"
      },
      "execution_count": null,
      "outputs": []
    },
    {
      "cell_type": "code",
      "execution_count": null,
      "metadata": {
        "id": "A1GxeLZdTTya"
      },
      "outputs": [],
      "source": [
        "model.save_pdb(f\"{model.protocol}.pdb\")\n",
        "model.plot_pdb()"
      ]
    },
    {
      "cell_type": "code",
      "execution_count": null,
      "metadata": {
        "id": "L2E9Tn2Acchj"
      },
      "outputs": [],
      "source": [
        "HTML(model.animate())"
      ]
    },
    {
      "cell_type": "code",
      "execution_count": null,
      "metadata": {
        "id": "YSKWYu0_GlUH"
      },
      "outputs": [],
      "source": [
        "model.get_seqs()"
      ]
    },
    {
      "cell_type": "markdown",
      "metadata": {
        "id": "dXfm4B8ISLuL"
      },
      "source": [
        "# binder hallucination\n",
        "For a given protein target and protein binder length, generate/hallucinate a protein binder sequence AlphaFold thinks will bind to the target structure. To do this, we minimize PAE and maximize number of contacts at the interface and within the binder, and we maximize pLDDT of the binder."
      ]
    },
    {
      "cell_type": "code",
      "execution_count": null,
      "metadata": {
        "id": "3XLJPiRKx5Mw"
      },
      "outputs": [],
      "source": [
        "clear_mem()\n",
        "model = mk_design_model(protocol=\"binder\")\n",
        "model.prep_inputs(pdb_filename=get_pdb(\"4MZK\"), chain=\"A\", binder_len=19)\n",
        "\n",
        "print(\"target_length\",model._target_len)\n",
        "print(\"binder_length\",model._binder_len)\n",
        "print(\"weights\",model.opt[\"weights\"])"
      ]
    },
    {
      "cell_type": "code",
      "execution_count": null,
      "metadata": {
        "id": "u6VxjuinyCZa"
      },
      "outputs": [],
      "source": [
        "model.restart(seq_init=\"soft_gumbel\")\n",
        "model.design_3stage(100,100,10)"
      ]
    },
    {
      "cell_type": "code",
      "source": [
        "model.save_pdb(f\"{model.protocol}.pdb\")\n",
        "model.plot_pdb()"
      ],
      "metadata": {
        "id": "sTlS7_L8Zfwf"
      },
      "execution_count": null,
      "outputs": []
    },
    {
      "cell_type": "code",
      "execution_count": null,
      "metadata": {
        "id": "9cARoviGyIKb"
      },
      "outputs": [],
      "source": [
        "HTML(model.animate())"
      ]
    },
    {
      "cell_type": "code",
      "source": [
        "model.get_seqs()"
      ],
      "metadata": {
        "id": "RzE137NDZdZc"
      },
      "execution_count": null,
      "outputs": []
    },
    {
      "cell_type": "code",
      "source": [
        "clear_mem()\n",
        "model = mk_design_model(protocol=\"binder\")\n",
        "model.prep_inputs(pdb_filename=get_pdb(\"1A0O\"),\n",
        "                  chain=\"A\",\n",
        "                  binder_chain=\"B\",\n",
        "                  use_binder_template=True,\n",
        "                  split_templates=True)\n",
        "\n",
        "print(\"target_length\",model._target_len)\n",
        "print(\"binder_length\",model._binder_len)\n",
        "print(\"weights\",model.opt[\"weights\"])\n",
        "\n",
        "model.restart(mode=\"wildtype\",\n",
        "              opt={\"template_dropout\":0.15})\n",
        "model.design_3stage(100,50,10)\n",
        "model.save_pdb(f\"{model.protocol}.pdb\")\n",
        "model.plot_pdb()\n"
      ],
      "metadata": {
        "id": "qpF_-we0F0pA",
        "outputId": "ea6e4397-9bd2-46bb-bc59-b68e53d56a6f",
        "colab": {
          "base_uri": "https://localhost:8080/"
        }
      },
      "execution_count": null,
      "outputs": [
        {
          "output_type": "stream",
          "name": "stdout",
          "text": [
            "target_length 128\n",
            "binder_length 70\n",
            "weights {'msa_ent': 0.0, 'helix': 0.0, 'plddt': 0.01, 'pae': 0.01, 'dgram_cce': 1.0, 'fape': 0.0, 'rmsd': 0.0, 'con': 0.0, 'i_pae': 0.01, 'i_con': 0.0}\n",
            "1\tmodel [0] soft 0.00 temp 1.00 seqid 1.00 loss 1.47 plddt 0.27 pae 0.18 i_pae 0.70 dgram_cce 1.46 rmsd 44.38\n",
            "2\tmodel [0] soft 0.01 temp 1.00 seqid 1.00 loss 1.35 plddt 0.21 pae 0.15 i_pae 0.79 dgram_cce 1.34 rmsd 29.46\n",
            "3\tmodel [0] soft 0.02 temp 1.00 seqid 1.00 loss 1.27 plddt 0.16 pae 0.11 i_pae 0.74 dgram_cce 1.26 rmsd 38.49\n",
            "4\tmodel [1] soft 0.03 temp 1.00 seqid 1.00 loss 1.27 plddt 0.16 pae 0.12 i_pae 0.79 dgram_cce 1.26 rmsd 42.91\n",
            "5\tmodel [1] soft 0.04 temp 1.00 seqid 1.00 loss 1.27 plddt 0.12 pae 0.10 i_pae 0.75 dgram_cce 1.26 rmsd 42.52\n",
            "6\tmodel [1] soft 0.05 temp 1.00 seqid 1.00 loss 1.34 plddt 0.11 pae 0.10 i_pae 0.78 dgram_cce 1.33 rmsd 41.49\n",
            "7\tmodel [1] soft 0.06 temp 1.00 seqid 1.00 loss 1.28 plddt 0.10 pae 0.10 i_pae 0.82 dgram_cce 1.27 rmsd 44.64\n",
            "8\tmodel [1] soft 0.07 temp 1.00 seqid 1.00 loss 1.25 plddt 0.10 pae 0.10 i_pae 0.83 dgram_cce 1.24 rmsd 37.23\n",
            "9\tmodel [0] soft 0.08 temp 1.00 seqid 1.00 loss 1.28 plddt 0.09 pae 0.10 i_pae 0.77 dgram_cce 1.27 rmsd 45.83\n",
            "10\tmodel [1] soft 0.09 temp 1.00 seqid 1.00 loss 1.22 plddt 0.11 pae 0.09 i_pae 0.79 dgram_cce 1.21 rmsd 43.32\n",
            "11\tmodel [1] soft 0.10 temp 1.00 seqid 1.00 loss 1.32 plddt 0.10 pae 0.10 i_pae 0.74 dgram_cce 1.31 rmsd 43.90\n",
            "12\tmodel [0] soft 0.11 temp 1.00 seqid 1.00 loss 1.24 plddt 0.13 pae 0.11 i_pae 0.73 dgram_cce 1.23 rmsd 39.37\n",
            "13\tmodel [0] soft 0.12 temp 1.00 seqid 1.00 loss 1.25 plddt 0.14 pae 0.12 i_pae 0.75 dgram_cce 1.24 rmsd 42.64\n",
            "14\tmodel [1] soft 0.13 temp 1.00 seqid 1.00 loss 1.16 plddt 0.13 pae 0.11 i_pae 0.61 dgram_cce 1.15 rmsd 9.23\n",
            "15\tmodel [1] soft 0.14 temp 1.00 seqid 1.00 loss 1.14 plddt 0.11 pae 0.10 i_pae 0.64 dgram_cce 1.13 rmsd 6.15\n",
            "16\tmodel [0] soft 0.15 temp 1.00 seqid 1.00 loss 1.13 plddt 0.14 pae 0.12 i_pae 0.63 dgram_cce 1.12 rmsd 8.01\n",
            "17\tmodel [0] soft 0.16 temp 1.00 seqid 1.00 loss 1.09 plddt 0.13 pae 0.11 i_pae 0.50 dgram_cce 1.08 rmsd 7.97\n",
            "18\tmodel [0] soft 0.17 temp 1.00 seqid 1.00 loss 1.07 plddt 0.11 pae 0.10 i_pae 0.36 dgram_cce 1.06 rmsd 8.94\n"
          ]
        }
      ]
    }
  ],
  "metadata": {
    "accelerator": "GPU",
    "colab": {
      "collapsed_sections": [
        "q4qiU9I0QHSz"
      ],
      "name": "design.ipynb",
      "provenance": [],
      "include_colab_link": true
    },
    "kernelspec": {
      "display_name": "Python 3",
      "name": "python3"
    },
    "language_info": {
      "name": "python"
    }
  },
  "nbformat": 4,
  "nbformat_minor": 0
}